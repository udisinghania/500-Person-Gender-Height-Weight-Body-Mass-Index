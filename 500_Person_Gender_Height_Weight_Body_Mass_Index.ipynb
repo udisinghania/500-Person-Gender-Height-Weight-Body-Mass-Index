{
  "nbformat": 4,
  "nbformat_minor": 0,
  "metadata": {
    "colab": {
      "name": "500 Person Gender-Height-Weight-Body Mass Index.ipynb",
      "version": "0.3.2",
      "provenance": [],
      "include_colab_link": true
    },
    "kernelspec": {
      "name": "python3",
      "display_name": "Python 3"
    }
  },
  "cells": [
    {
      "cell_type": "markdown",
      "metadata": {
        "id": "view-in-github",
        "colab_type": "text"
      },
      "source": [
        "<a href=\"https://colab.research.google.com/github/udisinghania/500-Person-Gender-Height-Weight-Body-Mass-Index/blob/master/500_Person_Gender_Height_Weight_Body_Mass_Index.ipynb\" target=\"_parent\"><img src=\"https://colab.research.google.com/assets/colab-badge.svg\" alt=\"Open In Colab\"/></a>"
      ]
    },
    {
      "cell_type": "code",
      "metadata": {
        "id": "S0EXNPIGlhOV",
        "colab_type": "code",
        "colab": {}
      },
      "source": [
        "from google.colab import files\n"
      ],
      "execution_count": 0,
      "outputs": []
    },
    {
      "cell_type": "code",
      "metadata": {
        "id": "5wUXXGAulk3_",
        "colab_type": "code",
        "colab": {
          "resources": {
            "http://localhost:8080/nbextensions/google.colab/files.js": {
              "data": "Ly8gQ29weXJpZ2h0IDIwMTcgR29vZ2xlIExMQwovLwovLyBMaWNlbnNlZCB1bmRlciB0aGUgQXBhY2hlIExpY2Vuc2UsIFZlcnNpb24gMi4wICh0aGUgIkxpY2Vuc2UiKTsKLy8geW91IG1heSBub3QgdXNlIHRoaXMgZmlsZSBleGNlcHQgaW4gY29tcGxpYW5jZSB3aXRoIHRoZSBMaWNlbnNlLgovLyBZb3UgbWF5IG9idGFpbiBhIGNvcHkgb2YgdGhlIExpY2Vuc2UgYXQKLy8KLy8gICAgICBodHRwOi8vd3d3LmFwYWNoZS5vcmcvbGljZW5zZXMvTElDRU5TRS0yLjAKLy8KLy8gVW5sZXNzIHJlcXVpcmVkIGJ5IGFwcGxpY2FibGUgbGF3IG9yIGFncmVlZCB0byBpbiB3cml0aW5nLCBzb2Z0d2FyZQovLyBkaXN0cmlidXRlZCB1bmRlciB0aGUgTGljZW5zZSBpcyBkaXN0cmlidXRlZCBvbiBhbiAiQVMgSVMiIEJBU0lTLAovLyBXSVRIT1VUIFdBUlJBTlRJRVMgT1IgQ09ORElUSU9OUyBPRiBBTlkgS0lORCwgZWl0aGVyIGV4cHJlc3Mgb3IgaW1wbGllZC4KLy8gU2VlIHRoZSBMaWNlbnNlIGZvciB0aGUgc3BlY2lmaWMgbGFuZ3VhZ2UgZ292ZXJuaW5nIHBlcm1pc3Npb25zIGFuZAovLyBsaW1pdGF0aW9ucyB1bmRlciB0aGUgTGljZW5zZS4KCi8qKgogKiBAZmlsZW92ZXJ2aWV3IEhlbHBlcnMgZm9yIGdvb2dsZS5jb2xhYiBQeXRob24gbW9kdWxlLgogKi8KKGZ1bmN0aW9uKHNjb3BlKSB7CmZ1bmN0aW9uIHNwYW4odGV4dCwgc3R5bGVBdHRyaWJ1dGVzID0ge30pIHsKICBjb25zdCBlbGVtZW50ID0gZG9jdW1lbnQuY3JlYXRlRWxlbWVudCgnc3BhbicpOwogIGVsZW1lbnQudGV4dENvbnRlbnQgPSB0ZXh0OwogIGZvciAoY29uc3Qga2V5IG9mIE9iamVjdC5rZXlzKHN0eWxlQXR0cmlidXRlcykpIHsKICAgIGVsZW1lbnQuc3R5bGVba2V5XSA9IHN0eWxlQXR0cmlidXRlc1trZXldOwogIH0KICByZXR1cm4gZWxlbWVudDsKfQoKLy8gTWF4IG51bWJlciBvZiBieXRlcyB3aGljaCB3aWxsIGJlIHVwbG9hZGVkIGF0IGEgdGltZS4KY29uc3QgTUFYX1BBWUxPQURfU0laRSA9IDEwMCAqIDEwMjQ7Ci8vIE1heCBhbW91bnQgb2YgdGltZSB0byBibG9jayB3YWl0aW5nIGZvciB0aGUgdXNlci4KY29uc3QgRklMRV9DSEFOR0VfVElNRU9VVF9NUyA9IDMwICogMTAwMDsKCmZ1bmN0aW9uIF91cGxvYWRGaWxlcyhpbnB1dElkLCBvdXRwdXRJZCkgewogIGNvbnN0IHN0ZXBzID0gdXBsb2FkRmlsZXNTdGVwKGlucHV0SWQsIG91dHB1dElkKTsKICBjb25zdCBvdXRwdXRFbGVtZW50ID0gZG9jdW1lbnQuZ2V0RWxlbWVudEJ5SWQob3V0cHV0SWQpOwogIC8vIENhY2hlIHN0ZXBzIG9uIHRoZSBvdXRwdXRFbGVtZW50IHRvIG1ha2UgaXQgYXZhaWxhYmxlIGZvciB0aGUgbmV4dCBjYWxsCiAgLy8gdG8gdXBsb2FkRmlsZXNDb250aW51ZSBmcm9tIFB5dGhvbi4KICBvdXRwdXRFbGVtZW50LnN0ZXBzID0gc3RlcHM7CgogIHJldHVybiBfdXBsb2FkRmlsZXNDb250aW51ZShvdXRwdXRJZCk7Cn0KCi8vIFRoaXMgaXMgcm91Z2hseSBhbiBhc3luYyBnZW5lcmF0b3IgKG5vdCBzdXBwb3J0ZWQgaW4gdGhlIGJyb3dzZXIgeWV0KSwKLy8gd2hlcmUgdGhlcmUgYXJlIG11bHRpcGxlIGFzeW5jaHJvbm91cyBzdGVwcyBhbmQgdGhlIFB5dGhvbiBzaWRlIGlzIGdvaW5nCi8vIHRvIHBvbGwgZm9yIGNvbXBsZXRpb24gb2YgZWFjaCBzdGVwLgovLyBUaGlzIHVzZXMgYSBQcm9taXNlIHRvIGJsb2NrIHRoZSBweXRob24gc2lkZSBvbiBjb21wbGV0aW9uIG9mIGVhY2ggc3RlcCwKLy8gdGhlbiBwYXNzZXMgdGhlIHJlc3VsdCBvZiB0aGUgcHJldmlvdXMgc3RlcCBhcyB0aGUgaW5wdXQgdG8gdGhlIG5leHQgc3RlcC4KZnVuY3Rpb24gX3VwbG9hZEZpbGVzQ29udGludWUob3V0cHV0SWQpIHsKICBjb25zdCBvdXRwdXRFbGVtZW50ID0gZG9jdW1lbnQuZ2V0RWxlbWVudEJ5SWQob3V0cHV0SWQpOwogIGNvbnN0IHN0ZXBzID0gb3V0cHV0RWxlbWVudC5zdGVwczsKCiAgY29uc3QgbmV4dCA9IHN0ZXBzLm5leHQob3V0cHV0RWxlbWVudC5sYXN0UHJvbWlzZVZhbHVlKTsKICByZXR1cm4gUHJvbWlzZS5yZXNvbHZlKG5leHQudmFsdWUucHJvbWlzZSkudGhlbigodmFsdWUpID0+IHsKICAgIC8vIENhY2hlIHRoZSBsYXN0IHByb21pc2UgdmFsdWUgdG8gbWFrZSBpdCBhdmFpbGFibGUgdG8gdGhlIG5leHQKICAgIC8vIHN0ZXAgb2YgdGhlIGdlbmVyYXRvci4KICAgIG91dHB1dEVsZW1lbnQubGFzdFByb21pc2VWYWx1ZSA9IHZhbHVlOwogICAgcmV0dXJuIG5leHQudmFsdWUucmVzcG9uc2U7CiAgfSk7Cn0KCi8qKgogKiBHZW5lcmF0b3IgZnVuY3Rpb24gd2hpY2ggaXMgY2FsbGVkIGJldHdlZW4gZWFjaCBhc3luYyBzdGVwIG9mIHRoZSB1cGxvYWQKICogcHJvY2Vzcy4KICogQHBhcmFtIHtzdHJpbmd9IGlucHV0SWQgRWxlbWVudCBJRCBvZiB0aGUgaW5wdXQgZmlsZSBwaWNrZXIgZWxlbWVudC4KICogQHBhcmFtIHtzdHJpbmd9IG91dHB1dElkIEVsZW1lbnQgSUQgb2YgdGhlIG91dHB1dCBkaXNwbGF5LgogKiBAcmV0dXJuIHshSXRlcmFibGU8IU9iamVjdD59IEl0ZXJhYmxlIG9mIG5leHQgc3RlcHMuCiAqLwpmdW5jdGlvbiogdXBsb2FkRmlsZXNTdGVwKGlucHV0SWQsIG91dHB1dElkKSB7CiAgY29uc3QgaW5wdXRFbGVtZW50ID0gZG9jdW1lbnQuZ2V0RWxlbWVudEJ5SWQoaW5wdXRJZCk7CiAgaW5wdXRFbGVtZW50LmRpc2FibGVkID0gZmFsc2U7CgogIGNvbnN0IG91dHB1dEVsZW1lbnQgPSBkb2N1bWVudC5nZXRFbGVtZW50QnlJZChvdXRwdXRJZCk7CiAgb3V0cHV0RWxlbWVudC5pbm5lckhUTUwgPSAnJzsKCiAgY29uc3QgcGlja2VkUHJvbWlzZSA9IG5ldyBQcm9taXNlKChyZXNvbHZlKSA9PiB7CiAgICBpbnB1dEVsZW1lbnQuYWRkRXZlbnRMaXN0ZW5lcignY2hhbmdlJywgKGUpID0+IHsKICAgICAgcmVzb2x2ZShlLnRhcmdldC5maWxlcyk7CiAgICB9KTsKICB9KTsKCiAgY29uc3QgY2FuY2VsID0gZG9jdW1lbnQuY3JlYXRlRWxlbWVudCgnYnV0dG9uJyk7CiAgaW5wdXRFbGVtZW50LnBhcmVudEVsZW1lbnQuYXBwZW5kQ2hpbGQoY2FuY2VsKTsKICBjYW5jZWwudGV4dENvbnRlbnQgPSAnQ2FuY2VsIHVwbG9hZCc7CiAgY29uc3QgY2FuY2VsUHJvbWlzZSA9IG5ldyBQcm9taXNlKChyZXNvbHZlKSA9PiB7CiAgICBjYW5jZWwub25jbGljayA9ICgpID0+IHsKICAgICAgcmVzb2x2ZShudWxsKTsKICAgIH07CiAgfSk7CgogIC8vIENhbmNlbCB1cGxvYWQgaWYgdXNlciBoYXNuJ3QgcGlja2VkIGFueXRoaW5nIGluIHRpbWVvdXQuCiAgY29uc3QgdGltZW91dFByb21pc2UgPSBuZXcgUHJvbWlzZSgocmVzb2x2ZSkgPT4gewogICAgc2V0VGltZW91dCgoKSA9PiB7CiAgICAgIHJlc29sdmUobnVsbCk7CiAgICB9LCBGSUxFX0NIQU5HRV9USU1FT1VUX01TKTsKICB9KTsKCiAgLy8gV2FpdCBmb3IgdGhlIHVzZXIgdG8gcGljayB0aGUgZmlsZXMuCiAgY29uc3QgZmlsZXMgPSB5aWVsZCB7CiAgICBwcm9taXNlOiBQcm9taXNlLnJhY2UoW3BpY2tlZFByb21pc2UsIHRpbWVvdXRQcm9taXNlLCBjYW5jZWxQcm9taXNlXSksCiAgICByZXNwb25zZTogewogICAgICBhY3Rpb246ICdzdGFydGluZycsCiAgICB9CiAgfTsKCiAgaWYgKCFmaWxlcykgewogICAgcmV0dXJuIHsKICAgICAgcmVzcG9uc2U6IHsKICAgICAgICBhY3Rpb246ICdjb21wbGV0ZScsCiAgICAgIH0KICAgIH07CiAgfQoKICBjYW5jZWwucmVtb3ZlKCk7CgogIC8vIERpc2FibGUgdGhlIGlucHV0IGVsZW1lbnQgc2luY2UgZnVydGhlciBwaWNrcyBhcmUgbm90IGFsbG93ZWQuCiAgaW5wdXRFbGVtZW50LmRpc2FibGVkID0gdHJ1ZTsKCiAgZm9yIChjb25zdCBmaWxlIG9mIGZpbGVzKSB7CiAgICBjb25zdCBsaSA9IGRvY3VtZW50LmNyZWF0ZUVsZW1lbnQoJ2xpJyk7CiAgICBsaS5hcHBlbmQoc3BhbihmaWxlLm5hbWUsIHtmb250V2VpZ2h0OiAnYm9sZCd9KSk7CiAgICBsaS5hcHBlbmQoc3BhbigKICAgICAgICBgKCR7ZmlsZS50eXBlIHx8ICduL2EnfSkgLSAke2ZpbGUuc2l6ZX0gYnl0ZXMsIGAgKwogICAgICAgIGBsYXN0IG1vZGlmaWVkOiAkewogICAgICAgICAgICBmaWxlLmxhc3RNb2RpZmllZERhdGUgPyBmaWxlLmxhc3RNb2RpZmllZERhdGUudG9Mb2NhbGVEYXRlU3RyaW5nKCkgOgogICAgICAgICAgICAgICAgICAgICAgICAgICAgICAgICAgICAnbi9hJ30gLSBgKSk7CiAgICBjb25zdCBwZXJjZW50ID0gc3BhbignMCUgZG9uZScpOwogICAgbGkuYXBwZW5kQ2hpbGQocGVyY2VudCk7CgogICAgb3V0cHV0RWxlbWVudC5hcHBlbmRDaGlsZChsaSk7CgogICAgY29uc3QgZmlsZURhdGFQcm9taXNlID0gbmV3IFByb21pc2UoKHJlc29sdmUpID0+IHsKICAgICAgY29uc3QgcmVhZGVyID0gbmV3IEZpbGVSZWFkZXIoKTsKICAgICAgcmVhZGVyLm9ubG9hZCA9IChlKSA9PiB7CiAgICAgICAgcmVzb2x2ZShlLnRhcmdldC5yZXN1bHQpOwogICAgICB9OwogICAgICByZWFkZXIucmVhZEFzQXJyYXlCdWZmZXIoZmlsZSk7CiAgICB9KTsKICAgIC8vIFdhaXQgZm9yIHRoZSBkYXRhIHRvIGJlIHJlYWR5LgogICAgbGV0IGZpbGVEYXRhID0geWllbGQgewogICAgICBwcm9taXNlOiBmaWxlRGF0YVByb21pc2UsCiAgICAgIHJlc3BvbnNlOiB7CiAgICAgICAgYWN0aW9uOiAnY29udGludWUnLAogICAgICB9CiAgICB9OwoKICAgIC8vIFVzZSBhIGNodW5rZWQgc2VuZGluZyB0byBhdm9pZCBtZXNzYWdlIHNpemUgbGltaXRzLiBTZWUgYi82MjExNTY2MC4KICAgIGxldCBwb3NpdGlvbiA9IDA7CiAgICB3aGlsZSAocG9zaXRpb24gPCBmaWxlRGF0YS5ieXRlTGVuZ3RoKSB7CiAgICAgIGNvbnN0IGxlbmd0aCA9IE1hdGgubWluKGZpbGVEYXRhLmJ5dGVMZW5ndGggLSBwb3NpdGlvbiwgTUFYX1BBWUxPQURfU0laRSk7CiAgICAgIGNvbnN0IGNodW5rID0gbmV3IFVpbnQ4QXJyYXkoZmlsZURhdGEsIHBvc2l0aW9uLCBsZW5ndGgpOwogICAgICBwb3NpdGlvbiArPSBsZW5ndGg7CgogICAgICBjb25zdCBiYXNlNjQgPSBidG9hKFN0cmluZy5mcm9tQ2hhckNvZGUuYXBwbHkobnVsbCwgY2h1bmspKTsKICAgICAgeWllbGQgewogICAgICAgIHJlc3BvbnNlOiB7CiAgICAgICAgICBhY3Rpb246ICdhcHBlbmQnLAogICAgICAgICAgZmlsZTogZmlsZS5uYW1lLAogICAgICAgICAgZGF0YTogYmFzZTY0LAogICAgICAgIH0sCiAgICAgIH07CiAgICAgIHBlcmNlbnQudGV4dENvbnRlbnQgPQogICAgICAgICAgYCR7TWF0aC5yb3VuZCgocG9zaXRpb24gLyBmaWxlRGF0YS5ieXRlTGVuZ3RoKSAqIDEwMCl9JSBkb25lYDsKICAgIH0KICB9CgogIC8vIEFsbCBkb25lLgogIHlpZWxkIHsKICAgIHJlc3BvbnNlOiB7CiAgICAgIGFjdGlvbjogJ2NvbXBsZXRlJywKICAgIH0KICB9Owp9CgpzY29wZS5nb29nbGUgPSBzY29wZS5nb29nbGUgfHwge307CnNjb3BlLmdvb2dsZS5jb2xhYiA9IHNjb3BlLmdvb2dsZS5jb2xhYiB8fCB7fTsKc2NvcGUuZ29vZ2xlLmNvbGFiLl9maWxlcyA9IHsKICBfdXBsb2FkRmlsZXMsCiAgX3VwbG9hZEZpbGVzQ29udGludWUsCn07Cn0pKHNlbGYpOwo=",
              "ok": true,
              "headers": [
                [
                  "content-type",
                  "application/javascript"
                ]
              ],
              "status": 200,
              "status_text": ""
            }
          },
          "base_uri": "https://localhost:8080/",
          "height": 111
        },
        "outputId": "d3816b38-48a1-49f1-e18a-b87df8fdee4f"
      },
      "source": [
        "files.upload()"
      ],
      "execution_count": 2,
      "outputs": [
        {
          "output_type": "display_data",
          "data": {
            "text/html": [
              "\n",
              "     <input type=\"file\" id=\"files-31661a0c-3609-4a53-957a-ce9e69a76952\" name=\"files[]\" multiple disabled />\n",
              "     <output id=\"result-31661a0c-3609-4a53-957a-ce9e69a76952\">\n",
              "      Upload widget is only available when the cell has been executed in the\n",
              "      current browser session. Please rerun this cell to enable.\n",
              "      </output>\n",
              "      <script src=\"/nbextensions/google.colab/files.js\"></script> "
            ],
            "text/plain": [
              "<IPython.core.display.HTML object>"
            ]
          },
          "metadata": {
            "tags": []
          }
        },
        {
          "output_type": "stream",
          "text": [
            "Saving 500_Person_Gender_Height_Weight_Index.csv to 500_Person_Gender_Height_Weight_Index (1).csv\n"
          ],
          "name": "stdout"
        },
        {
          "output_type": "execute_result",
          "data": {
            "text/plain": [
              "{'500_Person_Gender_Height_Weight_Index.csv': b'Gender,Height,Weight,Index\\r\\nMale,174,96,4\\r\\nMale,189,87,2\\r\\nFemale,185,110,4\\r\\nFemale,195,104,3\\r\\nMale,149,61,3\\r\\nMale,189,104,3\\r\\nMale,147,92,5\\r\\nMale,154,111,5\\r\\nMale,174,90,3\\r\\nFemale,169,103,4\\r\\nMale,195,81,2\\r\\nFemale,159,80,4\\r\\nFemale,192,101,3\\r\\nMale,155,51,2\\r\\nMale,191,79,2\\r\\nFemale,153,107,5\\r\\nFemale,157,110,5\\r\\nMale,140,129,5\\r\\nMale,144,145,5\\r\\nMale,172,139,5\\r\\nMale,157,110,5\\r\\nFemale,153,149,5\\r\\nFemale,169,97,4\\r\\nMale,185,139,5\\r\\nFemale,172,67,2\\r\\nFemale,151,64,3\\r\\nMale,190,95,3\\r\\nMale,187,62,1\\r\\nFemale,163,159,5\\r\\nMale,179,152,5\\r\\nMale,153,121,5\\r\\nMale,178,52,1\\r\\nFemale,195,65,1\\r\\nFemale,160,131,5\\r\\nFemale,157,153,5\\r\\nFemale,189,132,4\\r\\nFemale,197,114,3\\r\\nMale,144,80,4\\r\\nFemale,171,152,5\\r\\nFemale,185,81,2\\r\\nFemale,175,120,4\\r\\nFemale,149,108,5\\r\\nMale,157,56,2\\r\\nMale,161,118,5\\r\\nFemale,182,126,4\\r\\nMale,185,76,2\\r\\nFemale,188,122,4\\r\\nMale,181,111,4\\r\\nMale,161,72,3\\r\\nMale,140,152,5\\r\\nFemale,168,135,5\\r\\nFemale,176,54,1\\r\\nMale,163,110,5\\r\\nMale,172,105,4\\r\\nMale,196,116,4\\r\\nFemale,187,89,3\\r\\nMale,172,92,4\\r\\nMale,178,127,5\\r\\nFemale,164,70,3\\r\\nMale,143,88,5\\r\\nFemale,191,54,0\\r\\nFemale,141,143,5\\r\\nMale,193,54,0\\r\\nMale,190,83,2\\r\\nMale,175,135,5\\r\\nFemale,179,158,5\\r\\nFemale,172,96,4\\r\\nFemale,168,59,2\\r\\nFemale,164,82,4\\r\\nFemale,194,136,4\\r\\nFemale,153,51,2\\r\\nMale,178,117,4\\r\\nMale,141,80,5\\r\\nMale,180,75,2\\r\\nFemale,185,100,3\\r\\nFemale,197,154,4\\r\\nMale,165,104,4\\r\\nFemale,168,90,4\\r\\nFemale,176,122,4\\r\\nMale,181,51,0\\r\\nMale,164,75,3\\r\\nFemale,166,140,5\\r\\nFemale,190,105,3\\r\\nMale,186,118,4\\r\\nMale,168,123,5\\r\\nMale,198,50,0\\r\\nFemale,175,141,5\\r\\nMale,145,117,5\\r\\nFemale,159,104,5\\r\\nFemale,185,140,5\\r\\nFemale,178,154,5\\r\\nFemale,183,96,3\\r\\nFemale,194,111,3\\r\\nMale,177,61,2\\r\\nMale,197,119,4\\r\\nFemale,170,156,5\\r\\nMale,142,69,4\\r\\nMale,160,139,5\\r\\nMale,195,69,1\\r\\nFemale,190,50,0\\r\\nMale,199,156,4\\r\\nMale,154,105,5\\r\\nMale,161,155,5\\r\\nFemale,198,145,4\\r\\nFemale,192,140,4\\r\\nMale,195,126,4\\r\\nMale,166,160,5\\r\\nMale,159,154,5\\r\\nFemale,181,106,4\\r\\nMale,149,66,3\\r\\nFemale,150,70,4\\r\\nFemale,146,157,5\\r\\nMale,190,135,4\\r\\nFemale,192,90,2\\r\\nFemale,177,96,4\\r\\nMale,148,60,3\\r\\nFemale,165,57,2\\r\\nFemale,146,104,5\\r\\nMale,144,108,5\\r\\nFemale,176,156,5\\r\\nFemale,168,87,4\\r\\nMale,187,122,4\\r\\nMale,187,138,4\\r\\nFemale,184,160,5\\r\\nFemale,158,149,5\\r\\nMale,158,96,4\\r\\nMale,194,115,4\\r\\nFemale,145,79,4\\r\\nMale,182,151,5\\r\\nMale,154,54,2\\r\\nFemale,168,139,5\\r\\nFemale,187,70,2\\r\\nFemale,158,153,5\\r\\nFemale,167,110,4\\r\\nFemale,171,155,5\\r\\nFemale,183,150,5\\r\\nFemale,190,156,5\\r\\nMale,194,108,3\\r\\nMale,171,147,5\\r\\nMale,159,124,5\\r\\nFemale,169,54,2\\r\\nFemale,167,85,4\\r\\nMale,180,149,5\\r\\nMale,163,123,5\\r\\nMale,140,79,5\\r\\nMale,197,125,4\\r\\nMale,194,106,3\\r\\nFemale,140,146,5\\r\\nMale,195,98,3\\r\\nFemale,168,115,3\\r\\nFemale,196,50,0\\r\\nMale,140,52,3\\r\\nFemale,150,60,3\\r\\nFemale,168,140,5\\r\\nFemale,155,111,5\\r\\nFemale,179,103,4\\r\\nFemale,182,84,3\\r\\nMale,168,160,5\\r\\nFemale,187,102,3\\r\\nMale,181,105,4\\r\\nMale,199,99,2\\r\\nFemale,184,76,2\\r\\nMale,192,101,3\\r\\nFemale,182,143,5\\r\\nFemale,172,111,4\\r\\nMale,181,78,2\\r\\nMale,176,109,4\\r\\nFemale,156,106,5\\r\\nFemale,151,67,3\\r\\nFemale,188,80,2\\r\\nMale,187,136,4\\r\\nMale,174,138,5\\r\\nMale,167,151,5\\r\\nFemale,196,131,4\\r\\nMale,197,149,4\\r\\nFemale,185,119,4\\r\\nFemale,170,102,4\\r\\nFemale,181,94,3\\r\\nFemale,166,126,5\\r\\nMale,188,100,3\\r\\nFemale,162,74,3\\r\\nMale,177,117,4\\r\\nMale,162,97,4\\r\\nMale,180,73,2\\r\\nFemale,192,108,3\\r\\nMale,165,80,3\\r\\nFemale,167,135,5\\r\\nFemale,182,84,3\\r\\nFemale,161,134,5\\r\\nMale,158,95,4\\r\\nMale,141,85,5\\r\\nMale,154,100,5\\r\\nMale,165,105,4\\r\\nFemale,142,137,5\\r\\nMale,141,94,5\\r\\nMale,145,108,5\\r\\nMale,157,74,4\\r\\nFemale,177,117,4\\r\\nFemale,166,144,5\\r\\nMale,193,151,5\\r\\nMale,184,57,1\\r\\nMale,179,93,3\\r\\nFemale,156,89,4\\r\\nMale,182,104,4\\r\\nMale,145,160,5\\r\\nFemale,150,87,4\\r\\nMale,145,99,5\\r\\nFemale,196,122,4\\r\\nMale,191,96,3\\r\\nFemale,148,67,4\\r\\nFemale,150,84,4\\r\\nMale,148,155,5\\r\\nFemale,153,146,5\\r\\nFemale,196,159,5\\r\\nFemale,185,52,0\\r\\nFemale,171,131,5\\r\\nFemale,143,118,5\\r\\nFemale,142,86,5\\r\\nFemale,141,126,5\\r\\nMale,159,109,5\\r\\nFemale,173,82,2\\r\\nMale,183,138,5\\r\\nFemale,152,90,4\\r\\nMale,178,140,5\\r\\nMale,188,54,0\\r\\nFemale,155,144,5\\r\\nMale,166,70,3\\r\\nMale,188,123,4\\r\\nFemale,171,120,5\\r\\nMale,179,130,5\\r\\nFemale,186,137,4\\r\\nFemale,153,78,2\\r\\nFemale,184,86,3\\r\\nFemale,177,81,3\\r\\nMale,145,78,4\\r\\nMale,170,81,3\\r\\nMale,181,141,5\\r\\nMale,165,155,5\\r\\nFemale,174,65,2\\r\\nFemale,146,110,5\\r\\nMale,178,85,3\\r\\nMale,166,61,2\\r\\nMale,191,62,1\\r\\nFemale,177,155,5\\r\\nFemale,183,50,0\\r\\nMale,151,114,5\\r\\nMale,182,98,3\\r\\nFemale,142,159,5\\r\\nFemale,188,90,3\\r\\nMale,161,89,4\\r\\nMale,153,70,3\\r\\nMale,140,143,5\\r\\nMale,169,141,5\\r\\nFemale,162,159,5\\r\\nMale,183,147,5\\r\\nFemale,162,58,2\\r\\nFemale,172,109,4\\r\\nFemale,150,119,5\\r\\nFemale,169,145,5\\r\\nFemale,184,132,4\\r\\nMale,159,104,5\\r\\nMale,163,131,5\\r\\nMale,156,137,5\\r\\nFemale,157,52,2\\r\\nMale,147,84,4\\r\\nMale,141,86,5\\r\\nMale,173,139,5\\r\\nMale,154,145,5\\r\\nMale,168,148,5\\r\\nMale,168,50,1\\r\\nMale,145,130,5\\r\\nMale,152,103,5\\r\\nFemale,187,121,4\\r\\nFemale,163,57,0\\r\\nMale,178,83,3\\r\\nFemale,187,94,3\\r\\nFemale,179,114,4\\r\\nMale,190,80,2\\r\\nMale,172,75,3\\r\\nMale,188,57,1\\r\\nMale,193,65,1\\r\\nFemale,147,126,5\\r\\nFemale,147,94,5\\r\\nMale,166,107,4\\r\\nFemale,192,139,4\\r\\nMale,181,139,4\\r\\nMale,150,74,4\\r\\nMale,178,160,5\\r\\nFemale,156,52,2\\r\\nMale,149,100,5\\r\\nMale,156,74,4\\r\\nMale,183,105,3\\r\\nFemale,162,68,3\\r\\nFemale,165,83,4\\r\\nFemale,168,143,5\\r\\nMale,160,156,5\\r\\nFemale,169,88,2\\r\\nFemale,140,76,4\\r\\nFemale,187,92,3\\r\\nMale,151,82,4\\r\\nFemale,186,140,5\\r\\nMale,182,108,4\\r\\nMale,188,81,2\\r\\nMale,179,110,4\\r\\nFemale,156,126,5\\r\\nMale,188,114,4\\r\\nMale,183,153,5\\r\\nMale,144,88,5\\r\\nMale,196,69,1\\r\\nMale,171,141,5\\r\\nMale,171,147,5\\r\\nFemale,180,156,5\\r\\nMale,191,146,5\\r\\nFemale,179,67,2\\r\\nFemale,180,60,2\\r\\nFemale,154,132,5\\r\\nMale,188,99,3\\r\\nMale,142,135,5\\r\\nMale,170,95,4\\r\\nMale,152,141,5\\r\\nFemale,190,118,4\\r\\nFemale,181,111,4\\r\\nMale,153,104,5\\r\\nMale,187,140,5\\r\\nFemale,144,66,4\\r\\nFemale,148,54,2\\r\\nFemale,199,92,2\\r\\nFemale,167,85,4\\r\\nFemale,164,71,3\\r\\nFemale,185,102,3\\r\\nFemale,164,160,5\\r\\nMale,142,71,4\\r\\nMale,165,68,2\\r\\nFemale,172,62,2\\r\\nFemale,157,56,2\\r\\nMale,155,57,2\\r\\nFemale,167,153,5\\r\\nFemale,164,126,5\\r\\nFemale,189,125,4\\r\\nFemale,161,145,5\\r\\nFemale,155,71,3\\r\\nFemale,171,118,4\\r\\nFemale,154,92,4\\r\\nMale,179,83,3\\r\\nMale,170,115,4\\r\\nFemale,184,106,4\\r\\nFemale,191,68,2\\r\\nMale,162,58,2\\r\\nMale,178,138,5\\r\\nFemale,157,60,2\\r\\nMale,184,83,2\\r\\nMale,197,88,2\\r\\nFemale,160,51,2\\r\\nMale,184,153,5\\r\\nMale,190,50,0\\r\\nMale,174,90,3\\r\\nFemale,189,124,4\\r\\nFemale,186,143,5\\r\\nFemale,180,58,1\\r\\nFemale,186,148,4\\r\\nFemale,193,61,1\\r\\nMale,161,103,4\\r\\nFemale,151,158,5\\r\\nFemale,195,147,4\\r\\nFemale,184,152,5\\r\\nMale,141,80,5\\r\\nFemale,185,94,3\\r\\nFemale,186,127,4\\r\\nMale,142,131,5\\r\\nFemale,147,67,4\\r\\nMale,151,62,3\\r\\nFemale,160,124,5\\r\\nMale,185,60,1\\r\\nFemale,163,63,2\\r\\nMale,174,95,4\\r\\nFemale,150,144,5\\r\\nMale,142,91,5\\r\\nMale,178,142,5\\r\\nFemale,154,96,5\\r\\nMale,176,87,3\\r\\nMale,159,120,5\\r\\nMale,191,62,1\\r\\nMale,177,117,4\\r\\nMale,151,154,5\\r\\nFemale,182,149,5\\r\\nFemale,197,72,2\\r\\nMale,146,138,5\\r\\nFemale,160,83,4\\r\\nFemale,157,66,3\\r\\nFemale,150,50,2\\r\\nFemale,167,58,2\\r\\nFemale,180,70,2\\r\\nFemale,183,76,2\\r\\nFemale,183,87,3\\r\\nFemale,152,154,5\\r\\nFemale,164,71,3\\r\\nMale,187,96,3\\r\\nMale,169,136,5\\r\\nFemale,149,61,3\\r\\nMale,163,137,5\\r\\nFemale,195,104,3\\r\\nMale,174,107,4\\r\\nMale,182,70,2\\r\\nMale,169,110,4\\r\\nMale,193,130,4\\r\\nMale,148,141,5\\r\\nMale,186,68,2\\r\\nMale,165,143,5\\r\\nFemale,146,123,5\\r\\nFemale,166,133,5\\r\\nMale,179,56,1\\r\\nFemale,177,101,4\\r\\nMale,181,154,5\\r\\nFemale,161,154,5\\r\\nFemale,157,103,5\\r\\nFemale,169,98,4\\r\\nFemale,152,114,5\\r\\nFemale,162,64,2\\r\\nMale,162,130,5\\r\\nFemale,177,61,2\\r\\nFemale,195,61,1\\r\\nMale,140,146,5\\r\\nFemale,186,146,5\\r\\nFemale,178,107,4\\r\\nMale,174,54,1\\r\\nFemale,180,59,1\\r\\nMale,188,141,4\\r\\nFemale,187,130,4\\r\\nFemale,153,77,4\\r\\nFemale,165,95,4\\r\\nFemale,178,79,2\\r\\nFemale,163,154,5\\r\\nFemale,150,97,5\\r\\nMale,179,127,4\\r\\nMale,165,62,2\\r\\nMale,168,158,5\\r\\nFemale,153,133,5\\r\\nMale,184,157,5\\r\\nMale,188,65,1\\r\\nFemale,166,153,5\\r\\nFemale,172,116,4\\r\\nMale,182,73,2\\r\\nMale,143,149,5\\r\\nMale,152,146,5\\r\\nFemale,186,128,4\\r\\nMale,159,140,5\\r\\nMale,146,70,4\\r\\nFemale,176,121,4\\r\\nFemale,146,101,5\\r\\nMale,159,145,5\\r\\nMale,162,157,5\\r\\nFemale,172,90,4\\r\\nFemale,169,121,5\\r\\nMale,182,50,0\\r\\nFemale,183,79,2\\r\\nMale,176,77,2\\r\\nFemale,188,128,4\\r\\nFemale,175,83,2\\r\\nMale,154,81,4\\r\\nFemale,184,147,5\\r\\nMale,179,123,4\\r\\nMale,152,132,5\\r\\nMale,179,56,1\\r\\nFemale,145,141,5\\r\\nFemale,181,80,2\\r\\nMale,158,127,5\\r\\nFemale,188,99,3\\r\\nMale,145,142,5\\r\\nMale,161,115,5\\r\\nMale,198,109,3\\r\\nMale,147,142,5\\r\\nMale,154,112,5\\r\\nFemale,178,65,2\\r\\nMale,195,153,5\\r\\nFemale,167,79,3\\r\\nMale,183,131,4\\r\\nFemale,164,142,5\\r\\nMale,167,64,2\\r\\nFemale,151,55,2\\r\\nFemale,147,107,5\\r\\nFemale,155,115,5\\r\\nFemale,172,108,4\\r\\nFemale,142,86,5\\r\\nMale,146,85,4\\r\\nFemale,188,115,4\\r\\nMale,173,111,4\\r\\nFemale,160,109,5\\r\\nMale,187,80,2\\r\\nMale,198,136,4\\r\\nFemale,179,150,5\\r\\nFemale,164,59,2\\r\\nFemale,146,147,5\\r\\nFemale,198,50,0\\r\\nFemale,170,53,1\\r\\nMale,152,98,5\\r\\nFemale,150,153,5\\r\\nFemale,184,121,4\\r\\nFemale,141,136,5\\r\\nMale,150,95,5\\r\\nMale,173,131,5'}"
            ]
          },
          "metadata": {
            "tags": []
          },
          "execution_count": 2
        }
      ]
    },
    {
      "cell_type": "code",
      "metadata": {
        "id": "hHJMIU5Ml_Xk",
        "colab_type": "code",
        "colab": {}
      },
      "source": [
        "import pandas as pd\n",
        "import numpy as np\n",
        "import seaborn as sns\n",
        "import matplotlib.pyplot as plt"
      ],
      "execution_count": 0,
      "outputs": []
    },
    {
      "cell_type": "code",
      "metadata": {
        "id": "B6xF0SPilpPP",
        "colab_type": "code",
        "colab": {}
      },
      "source": [
        "train = pd.read_csv('./500_Person_Gender_Height_Weight_Index.csv')\n"
      ],
      "execution_count": 0,
      "outputs": []
    },
    {
      "cell_type": "code",
      "metadata": {
        "id": "-JsfZ3pYl9uf",
        "colab_type": "code",
        "colab": {
          "base_uri": "https://localhost:8080/",
          "height": 204
        },
        "outputId": "7d8ef271-45ee-4c27-d351-026c02f88f11"
      },
      "source": [
        "train.head()"
      ],
      "execution_count": 5,
      "outputs": [
        {
          "output_type": "execute_result",
          "data": {
            "text/html": [
              "<div>\n",
              "<style scoped>\n",
              "    .dataframe tbody tr th:only-of-type {\n",
              "        vertical-align: middle;\n",
              "    }\n",
              "\n",
              "    .dataframe tbody tr th {\n",
              "        vertical-align: top;\n",
              "    }\n",
              "\n",
              "    .dataframe thead th {\n",
              "        text-align: right;\n",
              "    }\n",
              "</style>\n",
              "<table border=\"1\" class=\"dataframe\">\n",
              "  <thead>\n",
              "    <tr style=\"text-align: right;\">\n",
              "      <th></th>\n",
              "      <th>Gender</th>\n",
              "      <th>Height</th>\n",
              "      <th>Weight</th>\n",
              "      <th>Index</th>\n",
              "    </tr>\n",
              "  </thead>\n",
              "  <tbody>\n",
              "    <tr>\n",
              "      <th>0</th>\n",
              "      <td>Male</td>\n",
              "      <td>174</td>\n",
              "      <td>96</td>\n",
              "      <td>4</td>\n",
              "    </tr>\n",
              "    <tr>\n",
              "      <th>1</th>\n",
              "      <td>Male</td>\n",
              "      <td>189</td>\n",
              "      <td>87</td>\n",
              "      <td>2</td>\n",
              "    </tr>\n",
              "    <tr>\n",
              "      <th>2</th>\n",
              "      <td>Female</td>\n",
              "      <td>185</td>\n",
              "      <td>110</td>\n",
              "      <td>4</td>\n",
              "    </tr>\n",
              "    <tr>\n",
              "      <th>3</th>\n",
              "      <td>Female</td>\n",
              "      <td>195</td>\n",
              "      <td>104</td>\n",
              "      <td>3</td>\n",
              "    </tr>\n",
              "    <tr>\n",
              "      <th>4</th>\n",
              "      <td>Male</td>\n",
              "      <td>149</td>\n",
              "      <td>61</td>\n",
              "      <td>3</td>\n",
              "    </tr>\n",
              "  </tbody>\n",
              "</table>\n",
              "</div>"
            ],
            "text/plain": [
              "   Gender  Height  Weight  Index\n",
              "0    Male     174      96      4\n",
              "1    Male     189      87      2\n",
              "2  Female     185     110      4\n",
              "3  Female     195     104      3\n",
              "4    Male     149      61      3"
            ]
          },
          "metadata": {
            "tags": []
          },
          "execution_count": 5
        }
      ]
    },
    {
      "cell_type": "code",
      "metadata": {
        "id": "khx8xY5QmKe9",
        "colab_type": "code",
        "colab": {
          "base_uri": "https://localhost:8080/",
          "height": 170
        },
        "outputId": "ed288d5e-4bd4-40e0-bec9-a9f4068b359b"
      },
      "source": [
        "train.info()"
      ],
      "execution_count": 6,
      "outputs": [
        {
          "output_type": "stream",
          "text": [
            "<class 'pandas.core.frame.DataFrame'>\n",
            "RangeIndex: 500 entries, 0 to 499\n",
            "Data columns (total 4 columns):\n",
            "Gender    500 non-null object\n",
            "Height    500 non-null int64\n",
            "Weight    500 non-null int64\n",
            "Index     500 non-null int64\n",
            "dtypes: int64(3), object(1)\n",
            "memory usage: 15.7+ KB\n"
          ],
          "name": "stdout"
        }
      ]
    },
    {
      "cell_type": "code",
      "metadata": {
        "id": "ZdVLReqsmRS6",
        "colab_type": "code",
        "colab": {}
      },
      "source": [
        "train = pd.get_dummies(train, columns=train.select_dtypes('object').columns)"
      ],
      "execution_count": 0,
      "outputs": []
    },
    {
      "cell_type": "code",
      "metadata": {
        "id": "SGxy-sFwmorj",
        "colab_type": "code",
        "colab": {
          "base_uri": "https://localhost:8080/",
          "height": 204
        },
        "outputId": "fd018fc6-8208-4049-8d72-667594d5f022"
      },
      "source": [
        "train.head()"
      ],
      "execution_count": 8,
      "outputs": [
        {
          "output_type": "execute_result",
          "data": {
            "text/html": [
              "<div>\n",
              "<style scoped>\n",
              "    .dataframe tbody tr th:only-of-type {\n",
              "        vertical-align: middle;\n",
              "    }\n",
              "\n",
              "    .dataframe tbody tr th {\n",
              "        vertical-align: top;\n",
              "    }\n",
              "\n",
              "    .dataframe thead th {\n",
              "        text-align: right;\n",
              "    }\n",
              "</style>\n",
              "<table border=\"1\" class=\"dataframe\">\n",
              "  <thead>\n",
              "    <tr style=\"text-align: right;\">\n",
              "      <th></th>\n",
              "      <th>Height</th>\n",
              "      <th>Weight</th>\n",
              "      <th>Index</th>\n",
              "      <th>Gender_Female</th>\n",
              "      <th>Gender_Male</th>\n",
              "    </tr>\n",
              "  </thead>\n",
              "  <tbody>\n",
              "    <tr>\n",
              "      <th>0</th>\n",
              "      <td>174</td>\n",
              "      <td>96</td>\n",
              "      <td>4</td>\n",
              "      <td>0</td>\n",
              "      <td>1</td>\n",
              "    </tr>\n",
              "    <tr>\n",
              "      <th>1</th>\n",
              "      <td>189</td>\n",
              "      <td>87</td>\n",
              "      <td>2</td>\n",
              "      <td>0</td>\n",
              "      <td>1</td>\n",
              "    </tr>\n",
              "    <tr>\n",
              "      <th>2</th>\n",
              "      <td>185</td>\n",
              "      <td>110</td>\n",
              "      <td>4</td>\n",
              "      <td>1</td>\n",
              "      <td>0</td>\n",
              "    </tr>\n",
              "    <tr>\n",
              "      <th>3</th>\n",
              "      <td>195</td>\n",
              "      <td>104</td>\n",
              "      <td>3</td>\n",
              "      <td>1</td>\n",
              "      <td>0</td>\n",
              "    </tr>\n",
              "    <tr>\n",
              "      <th>4</th>\n",
              "      <td>149</td>\n",
              "      <td>61</td>\n",
              "      <td>3</td>\n",
              "      <td>0</td>\n",
              "      <td>1</td>\n",
              "    </tr>\n",
              "  </tbody>\n",
              "</table>\n",
              "</div>"
            ],
            "text/plain": [
              "   Height  Weight  Index  Gender_Female  Gender_Male\n",
              "0     174      96      4              0            1\n",
              "1     189      87      2              0            1\n",
              "2     185     110      4              1            0\n",
              "3     195     104      3              1            0\n",
              "4     149      61      3              0            1"
            ]
          },
          "metadata": {
            "tags": []
          },
          "execution_count": 8
        }
      ]
    },
    {
      "cell_type": "code",
      "metadata": {
        "id": "fI2m_0BkmrH5",
        "colab_type": "code",
        "colab": {}
      },
      "source": [
        "y = train.loc[:,'Index']\n",
        "X = train.drop('Index', axis=1)"
      ],
      "execution_count": 0,
      "outputs": []
    },
    {
      "cell_type": "code",
      "metadata": {
        "id": "lkYrutQOoGke",
        "colab_type": "code",
        "colab": {
          "base_uri": "https://localhost:8080/",
          "height": 136
        },
        "outputId": "47affe00-4a7d-4429-ba19-9358ba0600b1"
      },
      "source": [
        "from sklearn.preprocessing import StandardScaler\n",
        "sc = StandardScaler()\n",
        "X = sc.fit_transform(X)\n",
        "X"
      ],
      "execution_count": 10,
      "outputs": [
        {
          "output_type": "execute_result",
          "data": {
            "text/plain": [
              "array([[ 0.24793878, -0.30911702, -1.02020406,  1.02020406],\n",
              "       [ 1.16487212, -0.58732233, -1.02020406,  1.02020406],\n",
              "       [ 0.92035656,  0.12364681,  0.98019606, -0.98019606],\n",
              "       ...,\n",
              "       [-1.76931458,  0.92735105,  0.98019606, -0.98019606],\n",
              "       [-1.21915457, -0.34002872, -1.02020406,  1.02020406],\n",
              "       [ 0.18680989,  0.77279254, -1.02020406,  1.02020406]])"
            ]
          },
          "metadata": {
            "tags": []
          },
          "execution_count": 10
        }
      ]
    },
    {
      "cell_type": "code",
      "metadata": {
        "id": "iYkpb0awoMlF",
        "colab_type": "code",
        "colab": {}
      },
      "source": [
        "from sklearn.model_selection import train_test_split\n",
        "X_train, X_test, y_train, y_test = train_test_split(X, y, test_size=0.25, random_state=42)"
      ],
      "execution_count": 0,
      "outputs": []
    },
    {
      "cell_type": "code",
      "metadata": {
        "id": "1IiJixV8oP48",
        "colab_type": "code",
        "colab": {
          "base_uri": "https://localhost:8080/",
          "height": 85
        },
        "outputId": "8a164d9c-8818-43db-ad3c-d48376b41855"
      },
      "source": [
        "print('Training Features Shape:', X_train.shape)\n",
        "print('Training Labels Shape:', y_train.shape)\n",
        "print('Testing Features Shape:', X_test.shape)\n",
        "print('Testing Labels Shape:', y_test.shape)"
      ],
      "execution_count": 12,
      "outputs": [
        {
          "output_type": "stream",
          "text": [
            "Training Features Shape: (375, 4)\n",
            "Training Labels Shape: (375,)\n",
            "Testing Features Shape: (125, 4)\n",
            "Testing Labels Shape: (125,)\n"
          ],
          "name": "stdout"
        }
      ]
    },
    {
      "cell_type": "code",
      "metadata": {
        "id": "Qwz-AhpkoTDO",
        "colab_type": "code",
        "colab": {}
      },
      "source": [
        "from sklearn.naive_bayes import GaussianNB\n",
        "s = GaussianNB()\n",
        "clf = s.fit(X_train,y_train)"
      ],
      "execution_count": 0,
      "outputs": []
    },
    {
      "cell_type": "code",
      "metadata": {
        "id": "eSUyRg5NqJGR",
        "colab_type": "code",
        "colab": {}
      },
      "source": [
        "y_pred = s.predict(X_test)"
      ],
      "execution_count": 0,
      "outputs": []
    },
    {
      "cell_type": "code",
      "metadata": {
        "id": "F9HXkhsRqP8D",
        "colab_type": "code",
        "colab": {
          "base_uri": "https://localhost:8080/",
          "height": 34
        },
        "outputId": "09dab50b-8882-4a53-da90-896587f2c4dd"
      },
      "source": [
        "from sklearn.metrics import accuracy_score\n",
        "accuracy_score(y_test, y_pred)"
      ],
      "execution_count": 15,
      "outputs": [
        {
          "output_type": "execute_result",
          "data": {
            "text/plain": [
              "0.728"
            ]
          },
          "metadata": {
            "tags": []
          },
          "execution_count": 15
        }
      ]
    },
    {
      "cell_type": "code",
      "metadata": {
        "id": "MT0BEDDJrFQV",
        "colab_type": "code",
        "colab": {}
      },
      "source": [
        "from sklearn import tree\n",
        "s = tree.DecisionTreeClassifier()\n",
        "clf = s.fit(X_train,y_train)"
      ],
      "execution_count": 0,
      "outputs": []
    },
    {
      "cell_type": "code",
      "metadata": {
        "id": "9aWzu-efr2H4",
        "colab_type": "code",
        "colab": {}
      },
      "source": [
        "y_pred = s.predict(X_test)"
      ],
      "execution_count": 0,
      "outputs": []
    },
    {
      "cell_type": "code",
      "metadata": {
        "id": "MnsqLAeMtHVy",
        "colab_type": "code",
        "colab": {
          "base_uri": "https://localhost:8080/",
          "height": 34
        },
        "outputId": "1b4bd22f-553f-4259-973a-3fda48295e93"
      },
      "source": [
        "accuracy_score(y_test, y_pred)"
      ],
      "execution_count": 18,
      "outputs": [
        {
          "output_type": "execute_result",
          "data": {
            "text/plain": [
              "0.832"
            ]
          },
          "metadata": {
            "tags": []
          },
          "execution_count": 18
        }
      ]
    },
    {
      "cell_type": "code",
      "metadata": {
        "id": "Qh1HqrXRtZuh",
        "colab_type": "code",
        "colab": {
          "base_uri": "https://localhost:8080/",
          "height": 34
        },
        "outputId": "d07c84a0-191d-4d14-bd02-7bd70344b32a"
      },
      "source": [
        "from keras import Sequential\n",
        "from keras.layers import Dense"
      ],
      "execution_count": 19,
      "outputs": [
        {
          "output_type": "stream",
          "text": [
            "Using TensorFlow backend.\n"
          ],
          "name": "stderr"
        }
      ]
    },
    {
      "cell_type": "code",
      "metadata": {
        "id": "0GDZf8X3tZlp",
        "colab_type": "code",
        "colab": {
          "base_uri": "https://localhost:8080/",
          "height": 34
        },
        "outputId": "2b229952-1b1c-4777-8bf6-50e358a94737"
      },
      "source": [
        "len(X_train[0])"
      ],
      "execution_count": 20,
      "outputs": [
        {
          "output_type": "execute_result",
          "data": {
            "text/plain": [
              "4"
            ]
          },
          "metadata": {
            "tags": []
          },
          "execution_count": 20
        }
      ]
    },
    {
      "cell_type": "code",
      "metadata": {
        "id": "HP91sOMMtfBs",
        "colab_type": "code",
        "colab": {}
      },
      "source": [
        "classifier = Sequential()\n",
        "\n",
        "classifier.add(Dense(4,activation = 'relu', kernel_initializer = 'random_normal', input_dim=4))\n",
        "\n",
        "classifier.add(Dense(3,activation = 'relu', kernel_initializer = 'random_normal'))\n",
        "\n",
        "classifier.add(Dense(3,activation = 'sigmoid', kernel_initializer = 'random_normal'))\n",
        "\n",
        "classifier.add(Dense(1,activation = 'relu', kernel_initializer = 'random_normal'))"
      ],
      "execution_count": 0,
      "outputs": []
    },
    {
      "cell_type": "code",
      "metadata": {
        "id": "na2CXYS-t6GK",
        "colab_type": "code",
        "colab": {}
      },
      "source": [
        "classifier.compile(optimizer='adam',loss='mse',metrics=['accuracy'])\n"
      ],
      "execution_count": 0,
      "outputs": []
    },
    {
      "cell_type": "code",
      "metadata": {
        "id": "18q7YMDXt_-S",
        "colab_type": "code",
        "colab": {
          "base_uri": "https://localhost:8080/",
          "height": 1000
        },
        "outputId": "88530a5f-4f9e-4476-dcef-21e369577624"
      },
      "source": [
        "classifier.fit(X_train,y_train, batch_size=10, epochs=100)\n"
      ],
      "execution_count": 45,
      "outputs": [
        {
          "output_type": "stream",
          "text": [
            "Epoch 1/100\n",
            "375/375 [==============================] - 0s 156us/step - loss: 1.3542 - acc: 0.1813\n",
            "Epoch 2/100\n",
            "375/375 [==============================] - 0s 116us/step - loss: 1.2690 - acc: 0.2720\n",
            "Epoch 3/100\n",
            "375/375 [==============================] - 0s 158us/step - loss: 1.1894 - acc: 0.3413\n",
            "Epoch 4/100\n",
            "375/375 [==============================] - 0s 138us/step - loss: 1.1101 - acc: 0.3920\n",
            "Epoch 5/100\n",
            "375/375 [==============================] - 0s 132us/step - loss: 1.0369 - acc: 0.4000\n",
            "Epoch 6/100\n",
            "375/375 [==============================] - 0s 140us/step - loss: 0.9674 - acc: 0.4267\n",
            "Epoch 7/100\n",
            "375/375 [==============================] - 0s 150us/step - loss: 0.9020 - acc: 0.4320\n",
            "Epoch 8/100\n",
            "375/375 [==============================] - 0s 171us/step - loss: 0.8450 - acc: 0.4400\n",
            "Epoch 9/100\n",
            "375/375 [==============================] - 0s 163us/step - loss: 0.8001 - acc: 0.4560\n",
            "Epoch 10/100\n",
            "375/375 [==============================] - 0s 134us/step - loss: 0.7612 - acc: 0.4613\n",
            "Epoch 11/100\n",
            "375/375 [==============================] - 0s 128us/step - loss: 0.7253 - acc: 0.4640\n",
            "Epoch 12/100\n",
            "375/375 [==============================] - 0s 131us/step - loss: 0.6928 - acc: 0.4640\n",
            "Epoch 13/100\n",
            "375/375 [==============================] - 0s 138us/step - loss: 0.6627 - acc: 0.4693\n",
            "Epoch 14/100\n",
            "375/375 [==============================] - 0s 141us/step - loss: 0.6354 - acc: 0.4773\n",
            "Epoch 15/100\n",
            "375/375 [==============================] - 0s 127us/step - loss: 0.6105 - acc: 0.4800\n",
            "Epoch 16/100\n",
            "375/375 [==============================] - 0s 123us/step - loss: 0.5866 - acc: 0.4907\n",
            "Epoch 17/100\n",
            "375/375 [==============================] - 0s 118us/step - loss: 0.5653 - acc: 0.4907\n",
            "Epoch 18/100\n",
            "375/375 [==============================] - 0s 126us/step - loss: 0.5452 - acc: 0.4880\n",
            "Epoch 19/100\n",
            "375/375 [==============================] - 0s 124us/step - loss: 0.5268 - acc: 0.4853\n",
            "Epoch 20/100\n",
            "375/375 [==============================] - 0s 128us/step - loss: 0.5102 - acc: 0.4800\n",
            "Epoch 21/100\n",
            "375/375 [==============================] - 0s 120us/step - loss: 0.4939 - acc: 0.4880\n",
            "Epoch 22/100\n",
            "375/375 [==============================] - 0s 120us/step - loss: 0.4783 - acc: 0.4853\n",
            "Epoch 23/100\n",
            "375/375 [==============================] - 0s 126us/step - loss: 0.4641 - acc: 0.4800\n",
            "Epoch 24/100\n",
            "375/375 [==============================] - 0s 120us/step - loss: 0.4507 - acc: 0.4853\n",
            "Epoch 25/100\n",
            "375/375 [==============================] - 0s 120us/step - loss: 0.4379 - acc: 0.4853\n",
            "Epoch 26/100\n",
            "375/375 [==============================] - 0s 120us/step - loss: 0.4266 - acc: 0.4853\n",
            "Epoch 27/100\n",
            "375/375 [==============================] - 0s 118us/step - loss: 0.4154 - acc: 0.4827\n",
            "Epoch 28/100\n",
            "375/375 [==============================] - 0s 121us/step - loss: 0.4060 - acc: 0.4827\n",
            "Epoch 29/100\n",
            "375/375 [==============================] - 0s 124us/step - loss: 0.3955 - acc: 0.4773\n",
            "Epoch 30/100\n",
            "375/375 [==============================] - 0s 133us/step - loss: 0.3858 - acc: 0.6373\n",
            "Epoch 31/100\n",
            "375/375 [==============================] - 0s 160us/step - loss: 0.3772 - acc: 0.7947\n",
            "Epoch 32/100\n",
            "375/375 [==============================] - 0s 139us/step - loss: 0.3693 - acc: 0.8107\n",
            "Epoch 33/100\n",
            "375/375 [==============================] - 0s 120us/step - loss: 0.3610 - acc: 0.8267\n",
            "Epoch 34/100\n",
            "375/375 [==============================] - 0s 123us/step - loss: 0.3536 - acc: 0.8320\n",
            "Epoch 35/100\n",
            "375/375 [==============================] - 0s 121us/step - loss: 0.3464 - acc: 0.8320\n",
            "Epoch 36/100\n",
            "375/375 [==============================] - 0s 128us/step - loss: 0.3399 - acc: 0.8320\n",
            "Epoch 37/100\n",
            "375/375 [==============================] - 0s 117us/step - loss: 0.3338 - acc: 0.8267\n",
            "Epoch 38/100\n",
            "375/375 [==============================] - 0s 213us/step - loss: 0.3274 - acc: 0.8293\n",
            "Epoch 39/100\n",
            "375/375 [==============================] - 0s 118us/step - loss: 0.3228 - acc: 0.8187\n",
            "Epoch 40/100\n",
            "375/375 [==============================] - 0s 126us/step - loss: 0.3161 - acc: 0.8347\n",
            "Epoch 41/100\n",
            "375/375 [==============================] - 0s 117us/step - loss: 0.3110 - acc: 0.8240\n",
            "Epoch 42/100\n",
            "375/375 [==============================] - 0s 121us/step - loss: 0.3063 - acc: 0.8320\n",
            "Epoch 43/100\n",
            "375/375 [==============================] - 0s 125us/step - loss: 0.3011 - acc: 0.8293\n",
            "Epoch 44/100\n",
            "375/375 [==============================] - 0s 122us/step - loss: 0.2959 - acc: 0.8320\n",
            "Epoch 45/100\n",
            "375/375 [==============================] - 0s 119us/step - loss: 0.2921 - acc: 0.8293\n",
            "Epoch 46/100\n",
            "375/375 [==============================] - 0s 121us/step - loss: 0.2884 - acc: 0.8267\n",
            "Epoch 47/100\n",
            "375/375 [==============================] - 0s 123us/step - loss: 0.2835 - acc: 0.8293\n",
            "Epoch 48/100\n",
            "375/375 [==============================] - 0s 134us/step - loss: 0.2793 - acc: 0.8293\n",
            "Epoch 49/100\n",
            "375/375 [==============================] - 0s 118us/step - loss: 0.2752 - acc: 0.8347\n",
            "Epoch 50/100\n",
            "375/375 [==============================] - 0s 132us/step - loss: 0.2720 - acc: 0.8293\n",
            "Epoch 51/100\n",
            "375/375 [==============================] - 0s 128us/step - loss: 0.2680 - acc: 0.8320\n",
            "Epoch 52/100\n",
            "375/375 [==============================] - 0s 139us/step - loss: 0.2647 - acc: 0.8320\n",
            "Epoch 53/100\n",
            "375/375 [==============================] - 0s 131us/step - loss: 0.2620 - acc: 0.8267\n",
            "Epoch 54/100\n",
            "375/375 [==============================] - 0s 115us/step - loss: 0.2580 - acc: 0.8347\n",
            "Epoch 55/100\n",
            "375/375 [==============================] - 0s 131us/step - loss: 0.2552 - acc: 0.8320\n",
            "Epoch 56/100\n",
            "375/375 [==============================] - 0s 142us/step - loss: 0.2516 - acc: 0.8347\n",
            "Epoch 57/100\n",
            "375/375 [==============================] - 0s 135us/step - loss: 0.2492 - acc: 0.8347\n",
            "Epoch 58/100\n",
            "375/375 [==============================] - 0s 123us/step - loss: 0.2463 - acc: 0.8347\n",
            "Epoch 59/100\n",
            "375/375 [==============================] - 0s 125us/step - loss: 0.2427 - acc: 0.8293\n",
            "Epoch 60/100\n",
            "375/375 [==============================] - 0s 121us/step - loss: 0.2401 - acc: 0.8293\n",
            "Epoch 61/100\n",
            "375/375 [==============================] - 0s 125us/step - loss: 0.2376 - acc: 0.8293\n",
            "Epoch 62/100\n",
            "375/375 [==============================] - 0s 118us/step - loss: 0.2348 - acc: 0.8347\n",
            "Epoch 63/100\n",
            "375/375 [==============================] - 0s 121us/step - loss: 0.2319 - acc: 0.8373\n",
            "Epoch 64/100\n",
            "375/375 [==============================] - 0s 125us/step - loss: 0.2297 - acc: 0.8347\n",
            "Epoch 65/100\n",
            "375/375 [==============================] - 0s 134us/step - loss: 0.2270 - acc: 0.8373\n",
            "Epoch 66/100\n",
            "375/375 [==============================] - 0s 124us/step - loss: 0.2247 - acc: 0.8373\n",
            "Epoch 67/100\n",
            "375/375 [==============================] - 0s 120us/step - loss: 0.2221 - acc: 0.8320\n",
            "Epoch 68/100\n",
            "375/375 [==============================] - 0s 125us/step - loss: 0.2196 - acc: 0.8347\n",
            "Epoch 69/100\n",
            "375/375 [==============================] - 0s 131us/step - loss: 0.2174 - acc: 0.8347\n",
            "Epoch 70/100\n",
            "375/375 [==============================] - 0s 130us/step - loss: 0.2156 - acc: 0.8373\n",
            "Epoch 71/100\n",
            "375/375 [==============================] - 0s 136us/step - loss: 0.2136 - acc: 0.8373\n",
            "Epoch 72/100\n",
            "375/375 [==============================] - 0s 129us/step - loss: 0.2113 - acc: 0.8373\n",
            "Epoch 73/100\n",
            "375/375 [==============================] - 0s 148us/step - loss: 0.2097 - acc: 0.8347\n",
            "Epoch 74/100\n",
            "375/375 [==============================] - 0s 121us/step - loss: 0.2083 - acc: 0.8373\n",
            "Epoch 75/100\n",
            "375/375 [==============================] - 0s 126us/step - loss: 0.2059 - acc: 0.8373\n",
            "Epoch 76/100\n",
            "375/375 [==============================] - 0s 133us/step - loss: 0.2044 - acc: 0.8320\n",
            "Epoch 77/100\n",
            "375/375 [==============================] - 0s 135us/step - loss: 0.2034 - acc: 0.8373\n",
            "Epoch 78/100\n",
            "375/375 [==============================] - 0s 134us/step - loss: 0.2016 - acc: 0.8267\n",
            "Epoch 79/100\n",
            "375/375 [==============================] - 0s 127us/step - loss: 0.1998 - acc: 0.8347\n",
            "Epoch 80/100\n",
            "375/375 [==============================] - 0s 121us/step - loss: 0.1985 - acc: 0.8373\n",
            "Epoch 81/100\n",
            "375/375 [==============================] - 0s 131us/step - loss: 0.1968 - acc: 0.8320\n",
            "Epoch 82/100\n",
            "375/375 [==============================] - 0s 171us/step - loss: 0.1955 - acc: 0.8373\n",
            "Epoch 83/100\n",
            "375/375 [==============================] - 0s 120us/step - loss: 0.1948 - acc: 0.8267\n",
            "Epoch 84/100\n",
            "375/375 [==============================] - 0s 121us/step - loss: 0.1926 - acc: 0.8347\n",
            "Epoch 85/100\n",
            "375/375 [==============================] - 0s 117us/step - loss: 0.1908 - acc: 0.8293\n",
            "Epoch 86/100\n",
            "375/375 [==============================] - 0s 125us/step - loss: 0.1899 - acc: 0.8320\n",
            "Epoch 87/100\n",
            "375/375 [==============================] - 0s 126us/step - loss: 0.1884 - acc: 0.8293\n",
            "Epoch 88/100\n",
            "375/375 [==============================] - 0s 118us/step - loss: 0.1882 - acc: 0.8293\n",
            "Epoch 89/100\n",
            "375/375 [==============================] - 0s 121us/step - loss: 0.1861 - acc: 0.8427\n",
            "Epoch 90/100\n",
            "375/375 [==============================] - 0s 122us/step - loss: 0.1846 - acc: 0.8587\n",
            "Epoch 91/100\n",
            "375/375 [==============================] - 0s 118us/step - loss: 0.1843 - acc: 0.8533\n",
            "Epoch 92/100\n",
            "375/375 [==============================] - 0s 134us/step - loss: 0.1824 - acc: 0.8560\n",
            "Epoch 93/100\n",
            "375/375 [==============================] - 0s 131us/step - loss: 0.1824 - acc: 0.8560\n",
            "Epoch 94/100\n",
            "375/375 [==============================] - 0s 123us/step - loss: 0.1810 - acc: 0.8560\n",
            "Epoch 95/100\n",
            "375/375 [==============================] - 0s 120us/step - loss: 0.1791 - acc: 0.8613\n",
            "Epoch 96/100\n",
            "375/375 [==============================] - 0s 124us/step - loss: 0.1786 - acc: 0.8533\n",
            "Epoch 97/100\n",
            "375/375 [==============================] - 0s 128us/step - loss: 0.1773 - acc: 0.8533\n",
            "Epoch 98/100\n",
            "375/375 [==============================] - 0s 121us/step - loss: 0.1774 - acc: 0.8613\n",
            "Epoch 99/100\n",
            "375/375 [==============================] - 0s 122us/step - loss: 0.1751 - acc: 0.8587\n",
            "Epoch 100/100\n",
            "375/375 [==============================] - 0s 127us/step - loss: 0.1742 - acc: 0.8587\n"
          ],
          "name": "stdout"
        },
        {
          "output_type": "execute_result",
          "data": {
            "text/plain": [
              "<keras.callbacks.History at 0x7f3a4efbcb70>"
            ]
          },
          "metadata": {
            "tags": []
          },
          "execution_count": 45
        }
      ]
    },
    {
      "cell_type": "code",
      "metadata": {
        "id": "W7Wls0MxuCeg",
        "colab_type": "code",
        "colab": {
          "base_uri": "https://localhost:8080/",
          "height": 51
        },
        "outputId": "73b3e0ae-1633-404d-d31a-60f1092f833c"
      },
      "source": [
        "\n",
        "eval_model=classifier.evaluate(X_train, y_train)\n",
        "eval_model"
      ],
      "execution_count": 46,
      "outputs": [
        {
          "output_type": "stream",
          "text": [
            "375/375 [==============================] - 0s 673us/step\n"
          ],
          "name": "stdout"
        },
        {
          "output_type": "execute_result",
          "data": {
            "text/plain": [
              "[0.17258367164929708, 0.8586666655540466]"
            ]
          },
          "metadata": {
            "tags": []
          },
          "execution_count": 46
        }
      ]
    },
    {
      "cell_type": "code",
      "metadata": {
        "id": "SoaRgvagu99E",
        "colab_type": "code",
        "colab": {}
      },
      "source": [
        "y_pred=classifier.predict(X_test)"
      ],
      "execution_count": 0,
      "outputs": []
    },
    {
      "cell_type": "code",
      "metadata": {
        "id": "IubliMdBvHzd",
        "colab_type": "code",
        "colab": {}
      },
      "source": [
        "q = []\n",
        "for i in y_pred:\n",
        "  q.append(int(round(i[0])))"
      ],
      "execution_count": 0,
      "outputs": []
    },
    {
      "cell_type": "code",
      "metadata": {
        "id": "acBzbJaEvJHD",
        "colab_type": "code",
        "colab": {
          "base_uri": "https://localhost:8080/",
          "height": 1000
        },
        "outputId": "0d78beef-a7a9-4b0f-d259-3c63940fb368"
      },
      "source": [
        "q"
      ],
      "execution_count": 68,
      "outputs": [
        {
          "output_type": "execute_result",
          "data": {
            "text/plain": [
              "[5,\n",
              " 2,\n",
              " 3,\n",
              " 4,\n",
              " 5,\n",
              " 5,\n",
              " 5,\n",
              " 5,\n",
              " 3,\n",
              " 5,\n",
              " 4,\n",
              " 5,\n",
              " 2,\n",
              " 5,\n",
              " 5,\n",
              " 3,\n",
              " 5,\n",
              " 5,\n",
              " 3,\n",
              " 5,\n",
              " 2,\n",
              " 5,\n",
              " 1,\n",
              " 4,\n",
              " 4,\n",
              " 5,\n",
              " 5,\n",
              " 5,\n",
              " 5,\n",
              " 2,\n",
              " 5,\n",
              " 5,\n",
              " 4,\n",
              " 4,\n",
              " 4,\n",
              " 2,\n",
              " 5,\n",
              " 2,\n",
              " 4,\n",
              " 2,\n",
              " 5,\n",
              " 2,\n",
              " 4,\n",
              " 3,\n",
              " 5,\n",
              " 4,\n",
              " 3,\n",
              " 4,\n",
              " 4,\n",
              " 4,\n",
              " 5,\n",
              " 4,\n",
              " 2,\n",
              " 1,\n",
              " 5,\n",
              " 2,\n",
              " 2,\n",
              " 5,\n",
              " 5,\n",
              " 5,\n",
              " 5,\n",
              " 5,\n",
              " 5,\n",
              " 4,\n",
              " 1,\n",
              " 2,\n",
              " 3,\n",
              " 4,\n",
              " 2,\n",
              " 2,\n",
              " 2,\n",
              " 5,\n",
              " 2,\n",
              " 3,\n",
              " 5,\n",
              " 5,\n",
              " 5,\n",
              " 4,\n",
              " 2,\n",
              " 5,\n",
              " 5,\n",
              " 3,\n",
              " 2,\n",
              " 5,\n",
              " 4,\n",
              " 5,\n",
              " 3,\n",
              " 5,\n",
              " 5,\n",
              " 3,\n",
              " 1,\n",
              " 2,\n",
              " 5,\n",
              " 4,\n",
              " 5,\n",
              " 2,\n",
              " 5,\n",
              " 5,\n",
              " 1,\n",
              " 5,\n",
              " 4,\n",
              " 5,\n",
              " 5,\n",
              " 5,\n",
              " 3,\n",
              " 3,\n",
              " 4,\n",
              " 5,\n",
              " 4,\n",
              " 5,\n",
              " 3,\n",
              " 4,\n",
              " 3,\n",
              " 3,\n",
              " 2,\n",
              " 5,\n",
              " 5,\n",
              " 5,\n",
              " 5,\n",
              " 2,\n",
              " 3,\n",
              " 4,\n",
              " 4,\n",
              " 5,\n",
              " 4]"
            ]
          },
          "metadata": {
            "tags": []
          },
          "execution_count": 68
        }
      ]
    },
    {
      "cell_type": "code",
      "metadata": {
        "id": "Ml2VHZ-BvWm1",
        "colab_type": "code",
        "colab": {
          "base_uri": "https://localhost:8080/",
          "height": 119
        },
        "outputId": "653c11b4-7ec5-498e-a92a-45e74e48bc0e"
      },
      "source": [
        "from sklearn.metrics import confusion_matrix\n",
        "cm = confusion_matrix(y_test, q)\n",
        "print(cm)"
      ],
      "execution_count": 69,
      "outputs": [
        {
          "output_type": "stream",
          "text": [
            "[[ 0  1  0  0  0  0]\n",
            " [ 0  4  0  0  0  0]\n",
            " [ 0  0 20  3  1  0]\n",
            " [ 0  0  2  8  0  0]\n",
            " [ 0  0  0  6 25  7]\n",
            " [ 0  0  0  0  0 48]]\n"
          ],
          "name": "stdout"
        }
      ]
    },
    {
      "cell_type": "code",
      "metadata": {
        "id": "oNiLeZX4wEzN",
        "colab_type": "code",
        "colab": {}
      },
      "source": [
        ""
      ],
      "execution_count": 0,
      "outputs": []
    }
  ]
}